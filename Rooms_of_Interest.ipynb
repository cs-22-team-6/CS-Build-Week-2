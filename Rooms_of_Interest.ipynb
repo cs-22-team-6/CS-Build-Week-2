{
 "cells": [
  {
   "cell_type": "markdown",
   "metadata": {},
   "source": [
    "### Extract Data from `room_graph.txt`"
   ]
  },
  {
   "cell_type": "code",
   "execution_count": 160,
   "metadata": {},
   "outputs": [],
   "source": [
    "import pandas as pd\n",
    "import ast"
   ]
  },
  {
   "cell_type": "code",
   "execution_count": 149,
   "metadata": {},
   "outputs": [],
   "source": [
    "# read file\n",
    "r = open('room_graph.txt', 'r')\n",
    "contents = r.read()\n",
    "r.close()\n",
    "#create a list\n",
    "room_list = contents.split('\\n')\n",
    "#remove the junk at the end\n",
    "room_list.pop()\n",
    "#fix my terrible formatting\n",
    "room_list = ['{' + room + '}' for room in room_list]\n",
    "# get list of dictionaries\n",
    "room_graph = [ast.literal_eval(room) for room in room_list]"
   ]
  },
  {
   "cell_type": "markdown",
   "metadata": {},
   "source": [
    "### Extract Data from `rooms.txt`"
   ]
  },
  {
   "cell_type": "markdown",
   "metadata": {},
   "source": [
    "## Dictionary Comprehension to get correct Graph formatting"
   ]
  },
  {
   "cell_type": "code",
   "execution_count": 151,
   "metadata": {},
   "outputs": [],
   "source": [
    "# room coordinate dictionary\n",
    "room_coord_dict = {room['room_id']: ast.literal_eval(room['coordinates']) for room in room_list}\n",
    "# list of dict keys\n",
    "key_list = list(room_coord_dict.keys())\n",
    "final = {}\n",
    "\n",
    "for i in range(len(room_graph)):\n",
    "    final.update({key_list[i]: [room_coord_dict[key_list[i]], room_graph[i][key_list[i]]]})"
   ]
  },
  {
   "cell_type": "markdown",
   "metadata": {},
   "source": [
    "### I miss Pandas DataFrames!!!"
   ]
  },
  {
   "cell_type": "code",
   "execution_count": 162,
   "metadata": {},
   "outputs": [],
   "source": [
    "data = {\n",
    "    'title': [room['title'] for room in room_list],\n",
    "    'description': [room['description'] for room in room_list],\n",
    "    'coordinates': [room['coordinates'] for room in room_list],\n",
    "    'elevation': [room['elevation'] for room in room_list],\n",
    "    'terrain': [room['terrain'] for room in room_list],\n",
    "    'items': [room['items'] for room in room_list],\n",
    "    'cooldown': [room['cooldown'] for room in room_list]\n",
    "}"
   ]
  },
  {
   "cell_type": "code",
   "execution_count": 163,
   "metadata": {},
   "outputs": [],
   "source": [
    "df = pd.DataFrame(index=[room['room_id'] for room in room_list], data=data)"
   ]
  },
  {
   "cell_type": "code",
   "execution_count": 165,
   "metadata": {},
   "outputs": [
    {
     "data": {
      "text/plain": [
       "A misty room                427\n",
       "A Dark Cave                  36\n",
       "Mt. Holloway                 29\n",
       "Shop                          1\n",
       "The Peak of Mt. Holloway      1\n",
       "Wishing Well                  1\n",
       "The Transmogriphier           1\n",
       "A brightly lit room           1\n",
       "Glasowyn's Grave              1\n",
       "Linh's Shrine                 1\n",
       "Pirate Ry's                   1\n",
       "Name: title, dtype: int64"
      ]
     },
     "execution_count": 165,
     "metadata": {},
     "output_type": "execute_result"
    }
   ],
   "source": [
    "df['title'].value_counts()"
   ]
  }
 ],
 "metadata": {
  "kernelspec": {
   "display_name": "Python 3",
   "language": "python",
   "name": "python3"
  },
  "language_info": {
   "codemirror_mode": {
    "name": "ipython",
    "version": 3
   },
   "file_extension": ".py",
   "mimetype": "text/x-python",
   "name": "python",
   "nbconvert_exporter": "python",
   "pygments_lexer": "ipython3",
   "version": "3.7.4"
  }
 },
 "nbformat": 4,
 "nbformat_minor": 4
}
